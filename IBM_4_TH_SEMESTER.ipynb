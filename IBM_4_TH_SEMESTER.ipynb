{
  "nbformat": 4,
  "nbformat_minor": 0,
  "metadata": {
    "colab": {
      "provenance": [],
      "authorship_tag": "ABX9TyP9QlWWGVz4yCh2uAbUCm60",
      "include_colab_link": true
    },
    "kernelspec": {
      "name": "python3",
      "display_name": "Python 3"
    },
    "language_info": {
      "name": "python"
    }
  },
  "cells": [
    {
      "cell_type": "markdown",
      "metadata": {
        "id": "view-in-github",
        "colab_type": "text"
      },
      "source": [
        "<a href=\"https://colab.research.google.com/github/Junaiis/29766junais/blob/main/IBM_4_TH_SEMESTER.ipynb\" target=\"_parent\"><img src=\"https://colab.research.google.com/assets/colab-badge.svg\" alt=\"Open In Colab\"/></a>"
      ]
    },
    {
      "cell_type": "code",
      "execution_count": 13,
      "metadata": {
        "id": "vfHiGA0xyYHx"
      },
      "outputs": [],
      "source": [
        "# tokenazation using NLTK"
      ]
    },
    {
      "cell_type": "code",
      "source": [
        "import nltk\n",
        "\n",
        "# Download the 'punkt_tab' data package\n",
        "nltk.download('punkt_tab')\n",
        "\n",
        "data = 'The FIFA World Cup is one of the most celebrated sporting events in the world, uniting nations through the love of football. Organized every four years, it features teams from countries across the globe competing for the ultimate prize. It has a rich history, with the first tournament held in 1930 and won by Uruguay. The event not only showcases elite football talent but also fosters cultural exchange and national pride. Iconic players like Pelé, Maradona, and Messi have created unforgettable moments on this stage. The World Cup attracts millions of fans, turning host nations into vibrant hubs of celebration. From dramatic penalty shootouts to underdog triumphs, it captures the spirit of competition. The tournament has both mens and womens editions, each inspiring generations. Its a stage where legends are born, and dreams are realized. Truly, the FIFA World Cup is more than a tournament; its a global phenomenon.'\n",
        "print(data)\n",
        "\n",
        "print('n/')\n",
        "print('--Tockenization : Sentance--')\n",
        "nltk.sent_tokenize(data)"
      ],
      "metadata": {
        "colab": {
          "base_uri": "https://localhost:8080/"
        },
        "id": "UHRrP7I7DLD7",
        "outputId": "ef2f812f-9577-477a-9f5a-99eb0010a761"
      },
      "execution_count": 14,
      "outputs": [
        {
          "output_type": "stream",
          "name": "stderr",
          "text": [
            "[nltk_data] Downloading package punkt_tab to /root/nltk_data...\n",
            "[nltk_data]   Unzipping tokenizers/punkt_tab.zip.\n"
          ]
        },
        {
          "output_type": "stream",
          "name": "stdout",
          "text": [
            "The FIFA World Cup is one of the most celebrated sporting events in the world, uniting nations through the love of football. Organized every four years, it features teams from countries across the globe competing for the ultimate prize. It has a rich history, with the first tournament held in 1930 and won by Uruguay. The event not only showcases elite football talent but also fosters cultural exchange and national pride. Iconic players like Pelé, Maradona, and Messi have created unforgettable moments on this stage. The World Cup attracts millions of fans, turning host nations into vibrant hubs of celebration. From dramatic penalty shootouts to underdog triumphs, it captures the spirit of competition. The tournament has both mens and womens editions, each inspiring generations. Its a stage where legends are born, and dreams are realized. Truly, the FIFA World Cup is more than a tournament; its a global phenomenon.\n",
            "n/\n",
            "--Tockenization : Sentance--\n"
          ]
        },
        {
          "output_type": "execute_result",
          "data": {
            "text/plain": [
              "['The FIFA World Cup is one of the most celebrated sporting events in the world, uniting nations through the love of football.',\n",
              " 'Organized every four years, it features teams from countries across the globe competing for the ultimate prize.',\n",
              " 'It has a rich history, with the first tournament held in 1930 and won by Uruguay.',\n",
              " 'The event not only showcases elite football talent but also fosters cultural exchange and national pride.',\n",
              " 'Iconic players like Pelé, Maradona, and Messi have created unforgettable moments on this stage.',\n",
              " 'The World Cup attracts millions of fans, turning host nations into vibrant hubs of celebration.',\n",
              " 'From dramatic penalty shootouts to underdog triumphs, it captures the spirit of competition.',\n",
              " 'The tournament has both mens and womens editions, each inspiring generations.',\n",
              " 'Its a stage where legends are born, and dreams are realized.',\n",
              " 'Truly, the FIFA World Cup is more than a tournament; its a global phenomenon.']"
            ]
          },
          "metadata": {},
          "execution_count": 14
        }
      ]
    },
    {
      "cell_type": "code",
      "source": [
        "print(nltk.word_tokenize(data))"
      ],
      "metadata": {
        "colab": {
          "base_uri": "https://localhost:8080/"
        },
        "id": "O_T5zZZDDLni",
        "outputId": "52a399c3-725f-4a91-9d54-c5d62c43f532"
      },
      "execution_count": 17,
      "outputs": [
        {
          "output_type": "stream",
          "name": "stdout",
          "text": [
            "['The', 'FIFA', 'World', 'Cup', 'is', 'one', 'of', 'the', 'most', 'celebrated', 'sporting', 'events', 'in', 'the', 'world', ',', 'uniting', 'nations', 'through', 'the', 'love', 'of', 'football', '.', 'Organized', 'every', 'four', 'years', ',', 'it', 'features', 'teams', 'from', 'countries', 'across', 'the', 'globe', 'competing', 'for', 'the', 'ultimate', 'prize', '.', 'It', 'has', 'a', 'rich', 'history', ',', 'with', 'the', 'first', 'tournament', 'held', 'in', '1930', 'and', 'won', 'by', 'Uruguay', '.', 'The', 'event', 'not', 'only', 'showcases', 'elite', 'football', 'talent', 'but', 'also', 'fosters', 'cultural', 'exchange', 'and', 'national', 'pride', '.', 'Iconic', 'players', 'like', 'Pelé', ',', 'Maradona', ',', 'and', 'Messi', 'have', 'created', 'unforgettable', 'moments', 'on', 'this', 'stage', '.', 'The', 'World', 'Cup', 'attracts', 'millions', 'of', 'fans', ',', 'turning', 'host', 'nations', 'into', 'vibrant', 'hubs', 'of', 'celebration', '.', 'From', 'dramatic', 'penalty', 'shootouts', 'to', 'underdog', 'triumphs', ',', 'it', 'captures', 'the', 'spirit', 'of', 'competition', '.', 'The', 'tournament', 'has', 'both', 'mens', 'and', 'womens', 'editions', ',', 'each', 'inspiring', 'generations', '.', 'Its', 'a', 'stage', 'where', 'legends', 'are', 'born', ',', 'and', 'dreams', 'are', 'realized', '.', 'Truly', ',', 'the', 'FIFA', 'World', 'Cup', 'is', 'more', 'than', 'a', 'tournament', ';', 'its', 'a', 'global', 'phenomenon', '.']\n"
          ]
        }
      ]
    },
    {
      "cell_type": "code",
      "source": [
        "from nltk.corpus import stopwords\n",
        "nltk.download('stopwords')\n",
        "stopwords = set(stopwords.words('arabic'))\n",
        "print(stopwords)"
      ],
      "metadata": {
        "colab": {
          "base_uri": "https://localhost:8080/"
        },
        "id": "qQTFutT1FWbo",
        "outputId": "8c3c7cd3-b976-40a1-d017-62c801c7a860"
      },
      "execution_count": 18,
      "outputs": [
        {
          "output_type": "stream",
          "name": "stdout",
          "text": [
            "{'أكتوبر', 'إياكم', 'له', 'أبٌ', 'إليكنّ', 'نبَّا', 'ثلاثين', 'اللائي', 'من', 'ثلاثون', 'تسعين', 'لمّا', 'اللواتي', 'إذ', 'لدى', 'تلكم', 'ثلاثاء', 'قطّ', 'لهن', 'ماي', 'ست', 'آض', 'عشرين', 'ا', 'هنالك', 'لعمر', 'كذا', 'ثمانون', 'لم', 'علق', 'ثان', 'حار', 'ثماني', 'كن', 'أف', 'طاء', 'حين', 'حاي', 'خلا', 'هل', 'تسعمائة', 'فوق', 'شمال', 'غدا', 'غداة', 'باء', 'مئتان', 'جانفي', 'إليكما', 'آهاً', 'تانِ', 'غ', 'لاسيما', 'ثمانمئة', 'نعم', 'ل', 'لكي', 'مه', 'أصلا', 'هلا', 'حيث', 'ى', 'ثلاثمئة', 'لكنما', 'كيف', 'هيت', 'ب', 'مئة', 'أمد', 'كلّما', 'ليسوا', 'سوف', 'بغتة', 'لات', 'تسع', 'وجد', 'ذهب', 'بخ', 'أنا', 'ثمانين', 'تجاه', 'الذين', 'هاتي', 'خمسمئة', 'منه', 'ذواتا', 'فو', 'بعدا', 'رُبَّ', 'اللتين', 'استحال', 'بات', 'ضاد', 'ذاك', 'هم', 'وهو', 'علًّ', 'شيكل', 'أسكن', 'صدقا', 'بس', 'مما', 'مثل', 'ين', 'ق', 'د', 'لئن', 'تخذ', 'أعلم', 'تَيْنِ', 'فاء', 'صار', 'إليكن', 'سرا', 'إليكم', 'ذلك', 'صباح', 'مليم', 'رزق', 'مذ', 'سابع', 'مائة', 'ف', 'إذاً', 'أربعة', 'ذا', 'تلكما', 'حمدا', 'ذو', 'دال', 'كأيّ', 'كأيّن', 'هبّ', 'خميس', 'هناك', 'ن', 'إذا', 'سادس', 'مهما', 'مادام', 'آهِ', 'دون', 'ذين', 'فبراير', 'معاذ', 'أُفٍّ', 'تعسا', 'قاطبة', 'ليستا', 'يوليو', 'أمّا', 'إى', 'يفعلان', 'ع', 'لنا', 'أنبأ', 'اثنين', 'نحن', 'اثنان', 'تفعلان', 'لوما', 'آهٍ', 'نفس', 'حمٌ', 'أ', 'تبدّل', 'حيثما', 'تِي', 'ذات', 'مكانكم', 'حسب', 'هما', 'إياكن', 'واهاً', 'أعطى', 'إيه', 'التي', 'بما', 'كم', 'إنَّ', 'بمن', 'تموز', 'درهم', 'فمن', 'عَدَسْ', 'ها', 'ارتدّ', 'كليهما', 'ما أفعله', 'إنا', 'أبو', 'بكن', 'غير', 'كِخ', 'حمو', 'بك', 'حتى', 'أل', 'دونك', 'عجبا', 'شرع', 'هيا', 'يونيو', 'انبرى', 'ستين', 'ذ', 'اللتان', 'صبر', 'بكم', 'خمس', 'لكيلا', 'لستما', 'عن', 'ذانِ', 'ّأيّان', 'بَلْهَ', 'إياكما', 'ذوا', 'أنتِ', 'سبعة', 'منذ', 'حرى', 'ذانك', 'إن', 'ثالث', 'الألى', 'أربعمائة', 'ذواتي', 'ابتدأ', 'ليس', 'ؤ', 'كسا', 'ك', 'لام', 'ذيت', 'أجل', 'آي', 'هذان', 'اتخذ', 'لسن', 'رأى', 'فيفري', 'جوان', 'سبعمائة', 'أى', 'أينما', 'أخبر', 'حَذارِ', 'فرادى', 'أيار', 'أيّان', 'إياهما', 'هنا', 'راء', 'إياهم', 'ديسمبر', 'شباط', 'أحد', 'هَاتِي', 'أيا', 'خمسة', 'انقلب', 'لبيك', 'كاد', 'مع', 'س', 'طفق', 'بل', 'نوفمبر', 'غين', 'لعلَّ', 'بضع', 'ئ', 'بطآن', 'أربع', 'جير', 'سرعان', 'أربعاء', 'أولاء', 'عين', 'وهب', 'بماذا', 'علم', 'حدَث', 'ومن', 'آناء', 'مساء', 'أبريل', 'كان', 'أمس', 'واو', 'وإذ', 'ثمَّ', 'ظلّ', 'دينار', 'شتان', 'لما', 'لكما', 'هؤلاء', 'سبع', 'إليكَ', 'ثمانية', 'بسّ', 'تسعمئة', 'سبعين', 'تحوّل', 'وُشْكَانَ', 'نَخْ', 'همزة', 'أوه', 'بعد', 'وراءَك', 'سبعون', 'طاق', 'أنًّ', 'بنا', 'ليت', 'قلما', 'نيف', 'لسنا', 'آه', 'هي', 'آها', 'تين', 'عامة', 'سبت', 'إياها', 'خمسين', 'هَاتانِ', 'كل', 'قام', 'تفعلون', 'تسعون', 'حقا', 'فلا', 'أنّى', 'ثم', 'اثني', 'ثاء', 'سبتمبر', 'لولا', 'ميم', 'ذِي', 'أجمع', 'سبعمئة', 'فإذا', 'هلّا', 'حبذا', 'إيانا', 'عشر', 'هَاتَيْنِ', 'ءَ', 'عل', 'أوت', 'على', 'إلَيْكَ', 'يورو', 'أنشأ', 'عشرون', 'جميع', 'صهْ', 'شبه', 'ثمان', 'لها', 'قاف', 'هَاتِه', 'وما', 'تِه', 'ستة', 'نا', 'ذَيْنِ', 'بَسْ', 'إلّا', 'لن', 'رويدك', 'أصبح', 'اثنا', 'أخٌ', 'كليكما', 'هاتين', 'رجع', 'ثلاثة', 'أوّهْ', 'إلى', 'فيها', 'عما', 'كلَّا', 'شتانَ', 'تسعة', 'راح', 'إذن', 'هو', 'سوى', 'نَّ', 'ثمة', 'خبَّر', 'قد', 'ثلاث', 'سين', 'أخو', 'كأنّ', 'ثاني', 'الألاء', 'أولئك', 'اربعين', 'بخٍ', 'أمامكَ', 'ذال', 'لي', 'أمسى', 'حادي', 'هَؤلاء', 'عسى', 'أغسطس', 'اربعون', 'هذي', 'طالما', 'لكنَّ', 'بهما', 'أنى', 'دولار', 'ستمائة', 'بي', 'اللتيا', 'أنتما', 'بؤسا', 'أيّ', 'بها', 'متى', 'أفريل', 'ر', 'تي', 'نحو', 'زود', 'أي', 'مايو', 'الآن', 'وا', 'ثمنمئة', 'تشرين', 'هَذا', 'هذا', 'لعل', 'هاهنا', 'تفعلين', 'ألا', 'منها', 'مارس', 'هاك', 'هللة', 'مكانكنّ', 'ذلكن', 'أطعم', 'كذلك', 'طَق', 'وإذا', 'خاء', 'يمين', 'بهم', 'إزاء', 'هَجْ', 'تحت', 'ريال', 'هاء', 'ه', 'ته', 'آب', 'هَيْهات', 'بعض', 'جيم', 'ساء', 'إمّا', 'خال', 'ورد', 'قبل', 'ج', 'ثمّ', 'ترك', 'هاته', 'إياي', 'أيها', 'ما', 'فيما', 'سمعا', 'إليك', 'أولالك', 'حيَّ', 'إي', 'كيت', 'فلان', 'أم', 'جنيه', 'لهما', 'كلاهما', 'لستم', 'خامس', 'اللذين', 'أول', 'كاف', 'ذه', 'تلك', 'كانون', 'زعم', 'والذين', 'أربعمئة', 'في', 'ولا', 'حاء', 'أرى', 'إياهن', 'جعل', 'صبرا', 'ذلكم', 'حجا', 'خمسون', 'عليه', 'تعلَّم', 'اللاتي', 'دواليك', 'جمعة', 'أن', 'زاي', 'لهم', 'ذلكما', 'إنه', 'عدَّ', 'هلم', 'أقل', 'بيد', 'هَذَيْنِ', 'هَذانِ', 'مرّة', 'آمينَ', 'ألفى', 'كأنما', 'ظ', 'بين', 'فإن', 'غالبا', 'تينك', 'هَذِي', 'عليك', 'ث', 'حبيب', 'بهن', 'أهلا', 'ض', 'يوان', 'أبدا', 'الذي', 'واحد', 'مكانكما', 'آذار', 'تاسع', 'خلافا', 'مازال', 'مافتئ', 'سحقا', 'هن', 'ذان', 'أقبل', 'اخلولق', 'ولكن', 'نون', 'خاصة', 'ليرة', 'وَيْ', 'أين', 'عشرة', 'ز', 'سبحان', 'ت', 'أوشك', 'كي', 'ليسا', 'هذين', 'كثيرا', 'ظاء', 'آنفا', 'خمسمائة', 'هيّا', 'ح', 'ما برح', 'غادر', 'ضحوة', 'هَذِه', 'ممن', 'ماذا', 'إحدى', 'بلى', 'أفعل به', 'هكذا', 'لكن', 'لو', 'آ', 'أمامك', 'تانِك', 'كأن', 'ء', 'لدن', 'أنت', 'هذه', 'ستمئة', 'نيسان', 'ما انفك', 'إنما', 'ستون', 'لست', 'أيضا', 'أخذ', 'لستن', 'فضلا', 'لا سيما', 'أيلول', 'تلقاء', 'ثلاثمائة', 'إياه', 'أفٍّ', 'اللذان', 'رابع', 'كلتا', 'كلا', 'يفعلون', 'يناير', 'كأين', 'م', 'إما', 'صاد', 'قرش', 'طرا', 'أو', 'كيفما', 'ة', 'عاشر', 'تارة', 'هاتان', 'ذي', 'كرب', 'ذينك', 'أضحى', 'وإن', 'كلما', 'ريث', 'ظنَّ', 'عوض', 'إذما', 'يا', 'خ', 'إياك', 'هاكَ', 'فلس', 'سقى', 'كأي', 'كما', 'لك', 'صراحة', 'و', 'والذي', 'أمام', 'مكانَك', 'جلل', 'أما', 'به', 'عدا', 'ياء', 'ولو', 'شين', 'جويلية', 'ثامن', 'فيه', 'شَتَّانَ', 'ذِه', 'كى', 'لكم', 'خلف', 'إيهٍ', 'أكثر', 'إلا', 'ط', 'عند', 'تاء', 'درى', 'لا', 'أنتن', 'بئس', 'حاشا', 'ص', 'بكما', 'ليست', 'سنتيم', 'حزيران', 'ش', 'صهٍ', 'عاد', 'أنتم', 'عيانا', 'ثمّة', 'فيم', 'ي', 'هيهات', 'ألف'}\n"
          ]
        },
        {
          "output_type": "stream",
          "name": "stderr",
          "text": [
            "[nltk_data] Downloading package stopwords to /root/nltk_data...\n",
            "[nltk_data]   Unzipping corpora/stopwords.zip.\n"
          ]
        }
      ]
    },
    {
      "cell_type": "code",
      "source": [
        "from nltk.corpus import stopwords\n",
        "nltk.download('stopwords')\n",
        "stopwords = set(stopwords.words('english'))\n",
        "print(stopwords)"
      ],
      "metadata": {
        "colab": {
          "base_uri": "https://localhost:8080/"
        },
        "id": "fNmd6ZZpJAzk",
        "outputId": "20ae39f6-9593-4d2f-aed8-8545c8c837bb"
      },
      "execution_count": 22,
      "outputs": [
        {
          "output_type": "stream",
          "name": "stdout",
          "text": [
            "{'further', 'am', 'nor', 'those', 'by', \"you'd\", 'yourself', 'over', \"he's\", 'are', 'isn', \"that'll\", 'which', 'that', \"it'll\", 'weren', 'ours', 'himself', 'from', \"we'll\", 'myself', \"she'll\", 'had', \"we'd\", 'or', 'won', \"aren't\", \"they'd\", \"hadn't\", 'needn', \"you've\", \"we've\", \"i've\", 'didn', 'his', 's', 'being', 'other', \"shouldn't\", 'yours', 'be', 'we', 'my', \"you'll\", \"shan't\", 'above', 'hadn', \"doesn't\", 'what', \"wasn't\", \"he'd\", 'her', 'no', 'don', 'they', 'any', 'me', 'against', 'should', 'ma', 'down', 'here', 't', 'only', 'theirs', \"they'll\", 'how', 'the', \"mustn't\", 'wasn', 'why', 'y', 'now', 'he', \"isn't\", 'an', 'at', \"you're\", \"don't\", 'in', 'on', \"it'd\", 'few', 've', \"should've\", 'do', 'for', \"weren't\", 'll', 'as', 'doing', 'out', 'off', 'most', \"she's\", \"didn't\", \"couldn't\", 'and', 'but', 'after', 'couldn', 'shouldn', 'these', 'with', 're', 'before', 'then', 'its', 'such', 'through', 'were', 'wouldn', \"needn't\", 'more', 'd', \"won't\", 'where', 'can', 'while', 'hers', 'so', 'not', 'when', 'again', \"i'll\", 'their', 'very', 'hasn', \"he'll\", 'him', 'too', 'all', 'm', \"wouldn't\", 'i', 'there', 'who', 'ourselves', 'having', 'aren', 'of', 'will', 'below', 'doesn', 'was', 'both', 'up', 'ain', \"i'd\", 'each', 'it', \"it's\", \"haven't\", 'herself', 'this', 'just', 'did', \"she'd\", 'o', 'because', 'same', 'some', 'have', 'to', 'mustn', 'mightn', 'if', \"hasn't\", 'themselves', \"i'm\", 'shan', 'until', \"they're\", 'a', 'haven', \"they've\", 'once', 'you', 'yourselves', 'been', 'during', 'about', 'itself', 'between', 'than', 'into', 'under', 'is', 'your', 'has', \"we're\", 'does', 'own', 'she', \"mightn't\", 'our', 'them', 'whom'}\n"
          ]
        },
        {
          "output_type": "stream",
          "name": "stderr",
          "text": [
            "[nltk_data] Downloading package stopwords to /root/nltk_data...\n",
            "[nltk_data]   Package stopwords is already up-to-date!\n"
          ]
        }
      ]
    },
    {
      "cell_type": "code",
      "source": [
        "from nltk.corpus import stopwords\n",
        "nltk.download('stopwords')\n",
        "stopwords = set(stopwords.words('french'))\n",
        "print(stopwords)"
      ],
      "metadata": {
        "colab": {
          "base_uri": "https://localhost:8080/"
        },
        "id": "aWHi17mXROLE",
        "outputId": "9e07476b-2931-49a6-a055-f2b8e48500ad"
      },
      "execution_count": 23,
      "outputs": [
        {
          "output_type": "stream",
          "name": "stdout",
          "text": [
            "{'êtes', 'aurez', 'aura', 'qui', 'été', 'eue', 'avais', 'sa', 'fut', 'étiez', 'fûmes', 'ayant', 'eurent', 'moi', 'aurons', 'toi', 'serais', 'étions', 'fus', 'soyez', 'eux', 'mon', 'un', 'serai', 'fusse', 'était', 'sois', 'eussent', 'eussiez', 'de', 'sera', 's', 'avec', 'mais', 'serait', 'leur', 'la', 'eus', 'se', 'étée', 'aies', 'dans', 'nos', 'me', 'étées', 'seraient', 'ma', 'je', 'ait', 'auras', 'ayantes', 't', 'ta', 'sur', 'es', 'serions', 'à', 'soit', 'ayants', 'nous', 'ayons', 'fussent', 'y', 'serons', 'son', 'soyons', 'au', 'on', 'l', 'notre', 'fussions', 'étants', 'en', 'étant', 'ils', 'as', 'seront', 'étés', 'auriez', 'eussions', 'sont', 'ou', 'même', 'le', 'ses', 'suis', 'par', 'eûtes', 'te', 'fûtes', 'tes', 'eut', 'est', 'ont', 'c', 'd', 'eu', 'ai', 'et', 'des', 'avait', 'aux', 'ton', 'votre', 'ayante', 'elle', 'm', 'aurai', 'qu', 'ne', 'étais', 'fusses', 'aient', 'sommes', 'eûmes', 'tu', 'ces', 'auront', 'fût', 'seras', 'aurait', 'avions', 'pour', 'n', 'eût', 'étaient', 'mes', 'ce', 'étantes', 'seriez', 'aie', 'pas', 'vous', 'soient', 'fussiez', 'du', 'vos', 'aurais', 'j', 'auraient', 'furent', 'eusses', 'une', 'que', 'avons', 'eues', 'étante', 'les', 'avaient', 'eusse', 'lui', 'il', 'aurions', 'serez', 'ayez', 'aviez', 'avez'}\n"
          ]
        },
        {
          "output_type": "stream",
          "name": "stderr",
          "text": [
            "[nltk_data] Downloading package stopwords to /root/nltk_data...\n",
            "[nltk_data]   Package stopwords is already up-to-date!\n"
          ]
        }
      ]
    },
    {
      "cell_type": "code",
      "source": [
        "import nltk\n",
        "import string\n",
        "from nltk.corpus import stopwords\n",
        "from nltk.tokenize import word_tokenize\n",
        "\n",
        "stop_words = stopwords.words('english')\n",
        "punct = string.punctuation\n",
        "\n",
        "data = 'The FIFA World Cup is one of the most celebrated sporting events in the world, uniting nations through the love of football. Organized every four years, it features teams from countries across the globe competing for the ultimate prize. It has a rich history, with the first tournament held in 1930 and won by Uruguay. The event not only showcases elite football talent but also fosters cultural exchange and national pride. Iconic players like Pelé, Maradona, and Messi have created unforgettable moments on this stage. The World Cup attracts millions of fans, turning host nations into vibrant hubs of celebration. From dramatic penalty shootouts to underdog triumphs, it captures the spirit of competition. The tournament has both mens and womens editions, each inspiring generations. Its a stage where legends are born, and dreams are realized. Truly, the FIFA World Cup is more than a tournament; its a global phenomenon.'\n",
        "\n",
        "clean_data = []\n",
        "for word in word_tokenize(data):\n",
        "    if word.lower() not in punct:\n",
        "        if word.lower() not in stop_words:\n",
        "            clean_data.append(word)\n",
        "\n",
        "print(clean_data)"
      ],
      "metadata": {
        "colab": {
          "base_uri": "https://localhost:8080/"
        },
        "id": "TcUueinMRQZk",
        "outputId": "31359d98-e265-49e9-c1b1-c4c407aa1a0c"
      },
      "execution_count": 24,
      "outputs": [
        {
          "output_type": "stream",
          "name": "stdout",
          "text": [
            "['FIFA', 'World', 'Cup', 'one', 'celebrated', 'sporting', 'events', 'world', 'uniting', 'nations', 'love', 'football', 'Organized', 'every', 'four', 'years', 'features', 'teams', 'countries', 'across', 'globe', 'competing', 'ultimate', 'prize', 'rich', 'history', 'first', 'tournament', 'held', '1930', 'Uruguay', 'event', 'showcases', 'elite', 'football', 'talent', 'also', 'fosters', 'cultural', 'exchange', 'national', 'pride', 'Iconic', 'players', 'like', 'Pelé', 'Maradona', 'Messi', 'created', 'unforgettable', 'moments', 'stage', 'World', 'Cup', 'attracts', 'millions', 'fans', 'turning', 'host', 'nations', 'vibrant', 'hubs', 'celebration', 'dramatic', 'penalty', 'shootouts', 'underdog', 'triumphs', 'captures', 'spirit', 'competition', 'tournament', 'mens', 'womens', 'editions', 'inspiring', 'generations', 'stage', 'legends', 'born', 'dreams', 'realized', 'Truly', 'FIFA', 'World', 'Cup', 'tournament', 'global', 'phenomenon']\n"
          ]
        }
      ]
    },
    {
      "cell_type": "code",
      "source": [],
      "metadata": {
        "id": "vleSPAKfRVxE"
      },
      "execution_count": null,
      "outputs": []
    }
  ]
}